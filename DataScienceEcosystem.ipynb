{
 "cells": [
  {
   "cell_type": "markdown",
   "id": "a97ec0f8",
   "metadata": {},
   "source": [
    "# Data Science Tools and Ecosystem"
   ]
  },
  {
   "cell_type": "markdown",
   "id": "5c5d1fe0",
   "metadata": {},
   "source": [
    "In this notebook, Data science tools and ecosystem are summarized."
   ]
  },
  {
   "cell_type": "markdown",
   "id": "cb6cd61c",
   "metadata": {},
   "source": [
    "**Objectives:**"
   ]
  },
  {
   "cell_type": "markdown",
   "id": "2a024b33",
   "metadata": {},
   "source": [
    "* List of popular languages in data science\n",
    "* List of popular libraries in data science\n",
    "* Working with tables and list in jupyter notebook\n",
    "* Doing some arithmetic operations\n",
    "* Submit your work on github"
   ]
  },
  {
   "cell_type": "markdown",
   "id": "594afe0b",
   "metadata": {},
   "source": [
    "## Author\n",
    "Asad Ali"
   ]
  },
  {
   "cell_type": "markdown",
   "id": "51407f74",
   "metadata": {},
   "source": [
    "Some popular languages that data scientist use are:"
   ]
  },
  {
   "cell_type": "markdown",
   "id": "49db351a",
   "metadata": {},
   "source": [
    "1. Python\n",
    "2. Ruby\n",
    "3. Julia"
   ]
  },
  {
   "cell_type": "markdown",
   "id": "fa0b54a2",
   "metadata": {},
   "source": [
    "Some of the commonly used libraries used by Data Scientists include:"
   ]
  },
  {
   "cell_type": "markdown",
   "id": "d4595a45",
   "metadata": {},
   "source": [
    "1. Matplotlib\n",
    "2. Numpy\n",
    "3. ggplot"
   ]
  },
  {
   "cell_type": "code",
   "execution_count": null,
   "id": "eccd5b6b",
   "metadata": {},
   "outputs": [],
   "source": []
  },
  {
   "cell_type": "markdown",
   "id": "27334422",
   "metadata": {},
   "source": [
    "### Below are a few examples of evaluating arithmetic expressions in Python"
   ]
  },
  {
   "cell_type": "code",
   "execution_count": 5,
   "id": "f6c7b4e9",
   "metadata": {},
   "outputs": [
    {
     "name": "stdout",
     "output_type": "stream",
     "text": [
      "4\n"
     ]
    }
   ],
   "source": [
    "print(2 + 2)"
   ]
  },
  {
   "cell_type": "code",
   "execution_count": 6,
   "id": "5c3fec8c",
   "metadata": {},
   "outputs": [
    {
     "name": "stdout",
     "output_type": "stream",
     "text": [
      "14\n"
     ]
    }
   ],
   "source": [
    "print(4*2+(3+3))"
   ]
  },
  {
   "cell_type": "markdown",
   "id": "98f33052",
   "metadata": {},
   "source": [
    " This a simple arithmetic expression to mutiply then add integers"
   ]
  },
  {
   "cell_type": "code",
   "execution_count": 8,
   "id": "2b706f51",
   "metadata": {},
   "outputs": [
    {
     "name": "stdout",
     "output_type": "stream",
     "text": [
      "17\n"
     ]
    }
   ],
   "source": [
    "print((3*4)+5)"
   ]
  },
  {
   "cell_type": "code",
   "execution_count": 9,
   "id": "3b203895",
   "metadata": {},
   "outputs": [
    {
     "name": "stdout",
     "output_type": "stream",
     "text": [
      "3.3333333333333335\n"
     ]
    }
   ],
   "source": [
    "#  This will convert 200 minutes to hours by diving by 60\n",
    "minutes = 200\n",
    "hours = minutes / 60\n",
    "print(hours)"
   ]
  },
  {
   "cell_type": "code",
   "execution_count": null,
   "id": "6cf23d9c",
   "metadata": {},
   "outputs": [],
   "source": []
  }
 ],
 "metadata": {
  "kernelspec": {
   "display_name": "Python 3 (ipykernel)",
   "language": "python",
   "name": "python3"
  },
  "language_info": {
   "codemirror_mode": {
    "name": "ipython",
    "version": 3
   },
   "file_extension": ".py",
   "mimetype": "text/x-python",
   "name": "python",
   "nbconvert_exporter": "python",
   "pygments_lexer": "ipython3",
   "version": "3.9.7"
  }
 },
 "nbformat": 4,
 "nbformat_minor": 5
}
